{
 "cells": [
  {
   "cell_type": "markdown",
   "id": "741a7fef",
   "metadata": {
    "deletable": false,
    "editable": false,
    "id": "c81daeeb"
   },
   "source": [
    "# Исследование надежности заемщиков\n"
   ]
  },
  {
   "cell_type": "markdown",
   "id": "6b83000f",
   "metadata": {
    "deletable": false,
    "editable": false,
    "id": "827c20bf"
   },
   "source": [
    "Во второй части проекта вы выполните шаги 3 и 4. Их вручную проверит ревьюер.\n",
    "Чтобы вам не пришлось писать код заново для шагов 1 и 2, мы добавили авторские решения в ячейки с кодом. \n",
    "\n"
   ]
  },
  {
   "cell_type": "markdown",
   "id": "c60c84a6",
   "metadata": {
    "deletable": false,
    "editable": false,
    "id": "744d7639"
   },
   "source": [
    "## Откройте таблицу и изучите общую информацию о данных"
   ]
  },
  {
   "cell_type": "markdown",
   "id": "6b637735",
   "metadata": {
    "deletable": false,
    "editable": false,
    "id": "e7a14c31"
   },
   "source": [
    "**Задание 1. Импортируйте библиотеку pandas. Считайте данные из csv-файла в датафрейм и сохраните в переменную `data`. Путь к файлу:**\n",
    "\n",
    "`/datasets/data.csv`"
   ]
  },
  {
   "cell_type": "code",
   "execution_count": 1,
   "id": "43455c54",
   "metadata": {
    "deletable": false,
    "id": "7bcf75c9"
   },
   "outputs": [],
   "source": [
    "import pandas as pd\n",
    "import seaborn as sns\n",
    "\n",
    "try:\n",
    "    data = pd.read_csv('/datasets/data.csv')\n",
    "except:\n",
    "    data = pd.read_csv('https://code.s3.yandex.net/datasets/data.csv')"
   ]
  },
  {
   "cell_type": "markdown",
   "id": "41444e41",
   "metadata": {
    "deletable": false,
    "editable": false,
    "id": "b8038fe3"
   },
   "source": [
    "**Задание 2. Выведите первые 20 строчек датафрейма `data` на экран.**"
   ]
  },
  {
   "cell_type": "code",
   "execution_count": 2,
   "id": "8ccab0e9",
   "metadata": {
    "deletable": false,
    "id": "2a7cab99",
    "outputId": "1a8f3ef2-d323-4ec2-ddf7-89670b5944c4",
    "scrolled": false
   },
   "outputs": [
    {
     "data": {
      "text/html": [
       "<div>\n",
       "<style scoped>\n",
       "    .dataframe tbody tr th:only-of-type {\n",
       "        vertical-align: middle;\n",
       "    }\n",
       "\n",
       "    .dataframe tbody tr th {\n",
       "        vertical-align: top;\n",
       "    }\n",
       "\n",
       "    .dataframe thead th {\n",
       "        text-align: right;\n",
       "    }\n",
       "</style>\n",
       "<table border=\"1\" class=\"dataframe\">\n",
       "  <thead>\n",
       "    <tr style=\"text-align: right;\">\n",
       "      <th></th>\n",
       "      <th>children</th>\n",
       "      <th>days_employed</th>\n",
       "      <th>dob_years</th>\n",
       "      <th>education</th>\n",
       "      <th>education_id</th>\n",
       "      <th>family_status</th>\n",
       "      <th>family_status_id</th>\n",
       "      <th>gender</th>\n",
       "      <th>income_type</th>\n",
       "      <th>debt</th>\n",
       "      <th>total_income</th>\n",
       "      <th>purpose</th>\n",
       "    </tr>\n",
       "  </thead>\n",
       "  <tbody>\n",
       "    <tr>\n",
       "      <th>0</th>\n",
       "      <td>1</td>\n",
       "      <td>-8437.673028</td>\n",
       "      <td>42</td>\n",
       "      <td>высшее</td>\n",
       "      <td>0</td>\n",
       "      <td>женат / замужем</td>\n",
       "      <td>0</td>\n",
       "      <td>F</td>\n",
       "      <td>сотрудник</td>\n",
       "      <td>0</td>\n",
       "      <td>253875.639453</td>\n",
       "      <td>покупка жилья</td>\n",
       "    </tr>\n",
       "    <tr>\n",
       "      <th>1</th>\n",
       "      <td>1</td>\n",
       "      <td>-4024.803754</td>\n",
       "      <td>36</td>\n",
       "      <td>среднее</td>\n",
       "      <td>1</td>\n",
       "      <td>женат / замужем</td>\n",
       "      <td>0</td>\n",
       "      <td>F</td>\n",
       "      <td>сотрудник</td>\n",
       "      <td>0</td>\n",
       "      <td>112080.014102</td>\n",
       "      <td>приобретение автомобиля</td>\n",
       "    </tr>\n",
       "    <tr>\n",
       "      <th>2</th>\n",
       "      <td>0</td>\n",
       "      <td>-5623.422610</td>\n",
       "      <td>33</td>\n",
       "      <td>Среднее</td>\n",
       "      <td>1</td>\n",
       "      <td>женат / замужем</td>\n",
       "      <td>0</td>\n",
       "      <td>M</td>\n",
       "      <td>сотрудник</td>\n",
       "      <td>0</td>\n",
       "      <td>145885.952297</td>\n",
       "      <td>покупка жилья</td>\n",
       "    </tr>\n",
       "    <tr>\n",
       "      <th>3</th>\n",
       "      <td>3</td>\n",
       "      <td>-4124.747207</td>\n",
       "      <td>32</td>\n",
       "      <td>среднее</td>\n",
       "      <td>1</td>\n",
       "      <td>женат / замужем</td>\n",
       "      <td>0</td>\n",
       "      <td>M</td>\n",
       "      <td>сотрудник</td>\n",
       "      <td>0</td>\n",
       "      <td>267628.550329</td>\n",
       "      <td>дополнительное образование</td>\n",
       "    </tr>\n",
       "    <tr>\n",
       "      <th>4</th>\n",
       "      <td>0</td>\n",
       "      <td>340266.072047</td>\n",
       "      <td>53</td>\n",
       "      <td>среднее</td>\n",
       "      <td>1</td>\n",
       "      <td>гражданский брак</td>\n",
       "      <td>1</td>\n",
       "      <td>F</td>\n",
       "      <td>пенсионер</td>\n",
       "      <td>0</td>\n",
       "      <td>158616.077870</td>\n",
       "      <td>сыграть свадьбу</td>\n",
       "    </tr>\n",
       "    <tr>\n",
       "      <th>5</th>\n",
       "      <td>0</td>\n",
       "      <td>-926.185831</td>\n",
       "      <td>27</td>\n",
       "      <td>высшее</td>\n",
       "      <td>0</td>\n",
       "      <td>гражданский брак</td>\n",
       "      <td>1</td>\n",
       "      <td>M</td>\n",
       "      <td>компаньон</td>\n",
       "      <td>0</td>\n",
       "      <td>255763.565419</td>\n",
       "      <td>покупка жилья</td>\n",
       "    </tr>\n",
       "    <tr>\n",
       "      <th>6</th>\n",
       "      <td>0</td>\n",
       "      <td>-2879.202052</td>\n",
       "      <td>43</td>\n",
       "      <td>высшее</td>\n",
       "      <td>0</td>\n",
       "      <td>женат / замужем</td>\n",
       "      <td>0</td>\n",
       "      <td>F</td>\n",
       "      <td>компаньон</td>\n",
       "      <td>0</td>\n",
       "      <td>240525.971920</td>\n",
       "      <td>операции с жильем</td>\n",
       "    </tr>\n",
       "    <tr>\n",
       "      <th>7</th>\n",
       "      <td>0</td>\n",
       "      <td>-152.779569</td>\n",
       "      <td>50</td>\n",
       "      <td>СРЕДНЕЕ</td>\n",
       "      <td>1</td>\n",
       "      <td>женат / замужем</td>\n",
       "      <td>0</td>\n",
       "      <td>M</td>\n",
       "      <td>сотрудник</td>\n",
       "      <td>0</td>\n",
       "      <td>135823.934197</td>\n",
       "      <td>образование</td>\n",
       "    </tr>\n",
       "    <tr>\n",
       "      <th>8</th>\n",
       "      <td>2</td>\n",
       "      <td>-6929.865299</td>\n",
       "      <td>35</td>\n",
       "      <td>ВЫСШЕЕ</td>\n",
       "      <td>0</td>\n",
       "      <td>гражданский брак</td>\n",
       "      <td>1</td>\n",
       "      <td>F</td>\n",
       "      <td>сотрудник</td>\n",
       "      <td>0</td>\n",
       "      <td>95856.832424</td>\n",
       "      <td>на проведение свадьбы</td>\n",
       "    </tr>\n",
       "    <tr>\n",
       "      <th>9</th>\n",
       "      <td>0</td>\n",
       "      <td>-2188.756445</td>\n",
       "      <td>41</td>\n",
       "      <td>среднее</td>\n",
       "      <td>1</td>\n",
       "      <td>женат / замужем</td>\n",
       "      <td>0</td>\n",
       "      <td>M</td>\n",
       "      <td>сотрудник</td>\n",
       "      <td>0</td>\n",
       "      <td>144425.938277</td>\n",
       "      <td>покупка жилья для семьи</td>\n",
       "    </tr>\n",
       "    <tr>\n",
       "      <th>10</th>\n",
       "      <td>2</td>\n",
       "      <td>-4171.483647</td>\n",
       "      <td>36</td>\n",
       "      <td>высшее</td>\n",
       "      <td>0</td>\n",
       "      <td>женат / замужем</td>\n",
       "      <td>0</td>\n",
       "      <td>M</td>\n",
       "      <td>компаньон</td>\n",
       "      <td>0</td>\n",
       "      <td>113943.491460</td>\n",
       "      <td>покупка недвижимости</td>\n",
       "    </tr>\n",
       "    <tr>\n",
       "      <th>11</th>\n",
       "      <td>0</td>\n",
       "      <td>-792.701887</td>\n",
       "      <td>40</td>\n",
       "      <td>среднее</td>\n",
       "      <td>1</td>\n",
       "      <td>женат / замужем</td>\n",
       "      <td>0</td>\n",
       "      <td>F</td>\n",
       "      <td>сотрудник</td>\n",
       "      <td>0</td>\n",
       "      <td>77069.234271</td>\n",
       "      <td>покупка коммерческой недвижимости</td>\n",
       "    </tr>\n",
       "    <tr>\n",
       "      <th>12</th>\n",
       "      <td>0</td>\n",
       "      <td>NaN</td>\n",
       "      <td>65</td>\n",
       "      <td>среднее</td>\n",
       "      <td>1</td>\n",
       "      <td>гражданский брак</td>\n",
       "      <td>1</td>\n",
       "      <td>M</td>\n",
       "      <td>пенсионер</td>\n",
       "      <td>0</td>\n",
       "      <td>NaN</td>\n",
       "      <td>сыграть свадьбу</td>\n",
       "    </tr>\n",
       "    <tr>\n",
       "      <th>13</th>\n",
       "      <td>0</td>\n",
       "      <td>-1846.641941</td>\n",
       "      <td>54</td>\n",
       "      <td>неоконченное высшее</td>\n",
       "      <td>2</td>\n",
       "      <td>женат / замужем</td>\n",
       "      <td>0</td>\n",
       "      <td>F</td>\n",
       "      <td>сотрудник</td>\n",
       "      <td>0</td>\n",
       "      <td>130458.228857</td>\n",
       "      <td>приобретение автомобиля</td>\n",
       "    </tr>\n",
       "    <tr>\n",
       "      <th>14</th>\n",
       "      <td>0</td>\n",
       "      <td>-1844.956182</td>\n",
       "      <td>56</td>\n",
       "      <td>высшее</td>\n",
       "      <td>0</td>\n",
       "      <td>гражданский брак</td>\n",
       "      <td>1</td>\n",
       "      <td>F</td>\n",
       "      <td>компаньон</td>\n",
       "      <td>1</td>\n",
       "      <td>165127.911772</td>\n",
       "      <td>покупка жилой недвижимости</td>\n",
       "    </tr>\n",
       "    <tr>\n",
       "      <th>15</th>\n",
       "      <td>1</td>\n",
       "      <td>-972.364419</td>\n",
       "      <td>26</td>\n",
       "      <td>среднее</td>\n",
       "      <td>1</td>\n",
       "      <td>женат / замужем</td>\n",
       "      <td>0</td>\n",
       "      <td>F</td>\n",
       "      <td>сотрудник</td>\n",
       "      <td>0</td>\n",
       "      <td>116820.904450</td>\n",
       "      <td>строительство собственной недвижимости</td>\n",
       "    </tr>\n",
       "    <tr>\n",
       "      <th>16</th>\n",
       "      <td>0</td>\n",
       "      <td>-1719.934226</td>\n",
       "      <td>35</td>\n",
       "      <td>среднее</td>\n",
       "      <td>1</td>\n",
       "      <td>женат / замужем</td>\n",
       "      <td>0</td>\n",
       "      <td>F</td>\n",
       "      <td>сотрудник</td>\n",
       "      <td>0</td>\n",
       "      <td>289202.704229</td>\n",
       "      <td>недвижимость</td>\n",
       "    </tr>\n",
       "    <tr>\n",
       "      <th>17</th>\n",
       "      <td>0</td>\n",
       "      <td>-2369.999720</td>\n",
       "      <td>33</td>\n",
       "      <td>высшее</td>\n",
       "      <td>0</td>\n",
       "      <td>гражданский брак</td>\n",
       "      <td>1</td>\n",
       "      <td>M</td>\n",
       "      <td>сотрудник</td>\n",
       "      <td>0</td>\n",
       "      <td>90410.586745</td>\n",
       "      <td>строительство недвижимости</td>\n",
       "    </tr>\n",
       "    <tr>\n",
       "      <th>18</th>\n",
       "      <td>0</td>\n",
       "      <td>400281.136913</td>\n",
       "      <td>53</td>\n",
       "      <td>среднее</td>\n",
       "      <td>1</td>\n",
       "      <td>вдовец / вдова</td>\n",
       "      <td>2</td>\n",
       "      <td>F</td>\n",
       "      <td>пенсионер</td>\n",
       "      <td>0</td>\n",
       "      <td>56823.777243</td>\n",
       "      <td>на покупку подержанного автомобиля</td>\n",
       "    </tr>\n",
       "    <tr>\n",
       "      <th>19</th>\n",
       "      <td>0</td>\n",
       "      <td>-10038.818549</td>\n",
       "      <td>48</td>\n",
       "      <td>СРЕДНЕЕ</td>\n",
       "      <td>1</td>\n",
       "      <td>в разводе</td>\n",
       "      <td>3</td>\n",
       "      <td>F</td>\n",
       "      <td>сотрудник</td>\n",
       "      <td>0</td>\n",
       "      <td>242831.107982</td>\n",
       "      <td>на покупку своего автомобиля</td>\n",
       "    </tr>\n",
       "  </tbody>\n",
       "</table>\n",
       "</div>"
      ],
      "text/plain": [
       "    children  days_employed  dob_years            education  education_id  \\\n",
       "0          1   -8437.673028         42               высшее             0   \n",
       "1          1   -4024.803754         36              среднее             1   \n",
       "2          0   -5623.422610         33              Среднее             1   \n",
       "3          3   -4124.747207         32              среднее             1   \n",
       "4          0  340266.072047         53              среднее             1   \n",
       "5          0    -926.185831         27               высшее             0   \n",
       "6          0   -2879.202052         43               высшее             0   \n",
       "7          0    -152.779569         50              СРЕДНЕЕ             1   \n",
       "8          2   -6929.865299         35               ВЫСШЕЕ             0   \n",
       "9          0   -2188.756445         41              среднее             1   \n",
       "10         2   -4171.483647         36               высшее             0   \n",
       "11         0    -792.701887         40              среднее             1   \n",
       "12         0            NaN         65              среднее             1   \n",
       "13         0   -1846.641941         54  неоконченное высшее             2   \n",
       "14         0   -1844.956182         56               высшее             0   \n",
       "15         1    -972.364419         26              среднее             1   \n",
       "16         0   -1719.934226         35              среднее             1   \n",
       "17         0   -2369.999720         33               высшее             0   \n",
       "18         0  400281.136913         53              среднее             1   \n",
       "19         0  -10038.818549         48              СРЕДНЕЕ             1   \n",
       "\n",
       "       family_status  family_status_id gender income_type  debt  \\\n",
       "0    женат / замужем                 0      F   сотрудник     0   \n",
       "1    женат / замужем                 0      F   сотрудник     0   \n",
       "2    женат / замужем                 0      M   сотрудник     0   \n",
       "3    женат / замужем                 0      M   сотрудник     0   \n",
       "4   гражданский брак                 1      F   пенсионер     0   \n",
       "5   гражданский брак                 1      M   компаньон     0   \n",
       "6    женат / замужем                 0      F   компаньон     0   \n",
       "7    женат / замужем                 0      M   сотрудник     0   \n",
       "8   гражданский брак                 1      F   сотрудник     0   \n",
       "9    женат / замужем                 0      M   сотрудник     0   \n",
       "10   женат / замужем                 0      M   компаньон     0   \n",
       "11   женат / замужем                 0      F   сотрудник     0   \n",
       "12  гражданский брак                 1      M   пенсионер     0   \n",
       "13   женат / замужем                 0      F   сотрудник     0   \n",
       "14  гражданский брак                 1      F   компаньон     1   \n",
       "15   женат / замужем                 0      F   сотрудник     0   \n",
       "16   женат / замужем                 0      F   сотрудник     0   \n",
       "17  гражданский брак                 1      M   сотрудник     0   \n",
       "18    вдовец / вдова                 2      F   пенсионер     0   \n",
       "19         в разводе                 3      F   сотрудник     0   \n",
       "\n",
       "     total_income                                 purpose  \n",
       "0   253875.639453                           покупка жилья  \n",
       "1   112080.014102                 приобретение автомобиля  \n",
       "2   145885.952297                           покупка жилья  \n",
       "3   267628.550329              дополнительное образование  \n",
       "4   158616.077870                         сыграть свадьбу  \n",
       "5   255763.565419                           покупка жилья  \n",
       "6   240525.971920                       операции с жильем  \n",
       "7   135823.934197                             образование  \n",
       "8    95856.832424                   на проведение свадьбы  \n",
       "9   144425.938277                 покупка жилья для семьи  \n",
       "10  113943.491460                    покупка недвижимости  \n",
       "11   77069.234271       покупка коммерческой недвижимости  \n",
       "12            NaN                         сыграть свадьбу  \n",
       "13  130458.228857                 приобретение автомобиля  \n",
       "14  165127.911772              покупка жилой недвижимости  \n",
       "15  116820.904450  строительство собственной недвижимости  \n",
       "16  289202.704229                            недвижимость  \n",
       "17   90410.586745              строительство недвижимости  \n",
       "18   56823.777243      на покупку подержанного автомобиля  \n",
       "19  242831.107982            на покупку своего автомобиля  "
      ]
     },
     "execution_count": 2,
     "metadata": {},
     "output_type": "execute_result"
    }
   ],
   "source": [
    "data.head(20)"
   ]
  },
  {
   "cell_type": "markdown",
   "id": "75848a64",
   "metadata": {
    "deletable": false,
    "editable": false,
    "id": "1c12e233"
   },
   "source": [
    "**Задание 3. Выведите основную информацию о датафрейме с помощью метода `info()`.**"
   ]
  },
  {
   "cell_type": "code",
   "execution_count": 3,
   "id": "c17dee05",
   "metadata": {
    "deletable": false,
    "id": "2b757bca",
    "outputId": "15376089-8dad-46c9-b520-c05248d43158"
   },
   "outputs": [
    {
     "name": "stdout",
     "output_type": "stream",
     "text": [
      "<class 'pandas.core.frame.DataFrame'>\n",
      "RangeIndex: 21525 entries, 0 to 21524\n",
      "Data columns (total 12 columns):\n",
      " #   Column            Non-Null Count  Dtype  \n",
      "---  ------            --------------  -----  \n",
      " 0   children          21525 non-null  int64  \n",
      " 1   days_employed     19351 non-null  float64\n",
      " 2   dob_years         21525 non-null  int64  \n",
      " 3   education         21525 non-null  object \n",
      " 4   education_id      21525 non-null  int64  \n",
      " 5   family_status     21525 non-null  object \n",
      " 6   family_status_id  21525 non-null  int64  \n",
      " 7   gender            21525 non-null  object \n",
      " 8   income_type       21525 non-null  object \n",
      " 9   debt              21525 non-null  int64  \n",
      " 10  total_income      19351 non-null  float64\n",
      " 11  purpose           21525 non-null  object \n",
      "dtypes: float64(2), int64(5), object(5)\n",
      "memory usage: 2.0+ MB\n"
     ]
    }
   ],
   "source": [
    "data.info()"
   ]
  },
  {
   "cell_type": "markdown",
   "id": "0cd62602",
   "metadata": {
    "deletable": false,
    "editable": false,
    "id": "333ec665"
   },
   "source": [
    "## Предобработка данных"
   ]
  },
  {
   "cell_type": "markdown",
   "id": "200a4644",
   "metadata": {
    "deletable": false,
    "editable": false,
    "id": "02d92d53"
   },
   "source": [
    "### Удаление пропусков"
   ]
  },
  {
   "cell_type": "markdown",
   "id": "d824ccad",
   "metadata": {
    "deletable": false,
    "editable": false,
    "id": "cd84967c"
   },
   "source": [
    "**Задание 4. Выведите количество пропущенных значений для каждого столбца. Используйте комбинацию двух методов.**"
   ]
  },
  {
   "cell_type": "code",
   "execution_count": 4,
   "id": "e8ce6548",
   "metadata": {
    "deletable": false,
    "id": "7f9b2309",
    "outputId": "81f4d817-781c-465c-ed15-91ce4446810d"
   },
   "outputs": [
    {
     "data": {
      "text/plain": [
       "children               0\n",
       "days_employed       2174\n",
       "dob_years              0\n",
       "education              0\n",
       "education_id           0\n",
       "family_status          0\n",
       "family_status_id       0\n",
       "gender                 0\n",
       "income_type            0\n",
       "debt                   0\n",
       "total_income        2174\n",
       "purpose                0\n",
       "dtype: int64"
      ]
     },
     "execution_count": 4,
     "metadata": {},
     "output_type": "execute_result"
    }
   ],
   "source": [
    "data.isna().sum()"
   ]
  },
  {
   "cell_type": "markdown",
   "id": "46c0ea84",
   "metadata": {
    "deletable": false,
    "editable": false,
    "id": "db86e27b"
   },
   "source": [
    "**Задание 5. В двух столбцах есть пропущенные значения. Один из них — `days_employed`. Пропуски в этом столбце вы обработаете на следующем этапе. Другой столбец с пропущенными значениями — `total_income` — хранит данные о доходах. На сумму дохода сильнее всего влияет тип занятости, поэтому заполнить пропуски в этом столбце нужно медианным значением по каждому типу из столбца `income_type`. Например, у человека с типом занятости `сотрудник` пропуск в столбце `total_income` должен быть заполнен медианным доходом среди всех записей с тем же типом.**"
   ]
  },
  {
   "cell_type": "code",
   "execution_count": 5,
   "id": "b2ec1d69",
   "metadata": {
    "deletable": false,
    "id": "42006a93"
   },
   "outputs": [],
   "source": [
    "for t in data['income_type'].unique():\n",
    "    data.loc[(data['income_type'] == t) & (data['total_income'].isna()), 'total_income'] = \\\n",
    "    data.loc[(data['income_type'] == t), 'total_income'].median()"
   ]
  },
  {
   "cell_type": "markdown",
   "id": "03819008",
   "metadata": {
    "deletable": false,
    "editable": false,
    "id": "89da5ece"
   },
   "source": [
    "### Обработка аномальных значений"
   ]
  },
  {
   "cell_type": "markdown",
   "id": "9de8802f",
   "metadata": {
    "deletable": false,
    "editable": false,
    "id": "57964554"
   },
   "source": [
    "**Задание 6. В данных могут встречаться артефакты (аномалии) — значения, которые не отражают действительность и появились по какой-то ошибке. таким артефактом будет отрицательное количество дней трудового стажа в столбце `days_employed`. Для реальных данных это нормально. Обработайте значения в этом столбце: замените все отрицательные значения положительными с помощью метода `abs()`.**"
   ]
  },
  {
   "cell_type": "code",
   "execution_count": 6,
   "id": "4e0c5bfe",
   "metadata": {
    "deletable": false,
    "id": "f6f055bf"
   },
   "outputs": [],
   "source": [
    "data['days_employed'] = data['days_employed'].abs()"
   ]
  },
  {
   "cell_type": "markdown",
   "id": "ac627b45",
   "metadata": {
    "deletable": false,
    "editable": false,
    "id": "6107dd2f"
   },
   "source": [
    "**Задание 7. Для каждого типа занятости выведите медианное значение трудового стажа `days_employed` в днях.**"
   ]
  },
  {
   "cell_type": "code",
   "execution_count": 7,
   "id": "a345eed8",
   "metadata": {
    "deletable": false,
    "id": "85a5faf6",
    "outputId": "801ef80e-522b-4668-f34e-565af7432bcf"
   },
   "outputs": [
    {
     "data": {
      "text/plain": [
       "income_type\n",
       "безработный        366413.652744\n",
       "в декрете            3296.759962\n",
       "госслужащий          2689.368353\n",
       "компаньон            1547.382223\n",
       "пенсионер          365213.306266\n",
       "предприниматель       520.848083\n",
       "сотрудник            1574.202821\n",
       "студент               578.751554\n",
       "Name: days_employed, dtype: float64"
      ]
     },
     "execution_count": 7,
     "metadata": {},
     "output_type": "execute_result"
    }
   ],
   "source": [
    "data.groupby('income_type')['days_employed'].agg('median')"
   ]
  },
  {
   "cell_type": "markdown",
   "id": "503fd42d",
   "metadata": {
    "deletable": false,
    "editable": false,
    "id": "38d1a030"
   },
   "source": [
    "У двух типов (безработные и пенсионеры) получатся аномально большие значения. Исправить такие значения сложно, поэтому оставьте их как есть. Тем более этот столбец не понадобится вам для исследования."
   ]
  },
  {
   "cell_type": "markdown",
   "id": "3675dbc7",
   "metadata": {
    "deletable": false,
    "editable": false,
    "id": "d8a9f147"
   },
   "source": [
    "**Задание 8. Выведите перечень уникальных значений столбца `children`.**"
   ]
  },
  {
   "cell_type": "code",
   "execution_count": 8,
   "id": "042577ae",
   "metadata": {
    "deletable": false,
    "id": "ef5056eb",
    "outputId": "6975b15c-7f95-4697-d16d-a0c79b657b03"
   },
   "outputs": [
    {
     "data": {
      "text/plain": [
       "array([ 1,  0,  3,  2, -1,  4, 20,  5])"
      ]
     },
     "execution_count": 8,
     "metadata": {},
     "output_type": "execute_result"
    }
   ],
   "source": [
    "data['children'].unique()"
   ]
  },
  {
   "cell_type": "markdown",
   "id": "463864f9",
   "metadata": {
    "deletable": false,
    "editable": false,
    "id": "40b9ebf2"
   },
   "source": [
    "**Задание 9. В столбце `children` есть два аномальных значения. Удалите строки, в которых встречаются такие аномальные значения из датафрейма `data`.**"
   ]
  },
  {
   "cell_type": "code",
   "execution_count": 9,
   "id": "69ae3378",
   "metadata": {
    "deletable": false,
    "id": "3ff9801d"
   },
   "outputs": [],
   "source": [
    "data = data[(data['children'] != -1) & (data['children'] != 20)]"
   ]
  },
  {
   "cell_type": "markdown",
   "id": "e9396d15",
   "metadata": {
    "deletable": false,
    "editable": false,
    "id": "bbc4d0ce"
   },
   "source": [
    "**Задание 10. Ещё раз выведите перечень уникальных значений столбца `children`, чтобы убедиться, что артефакты удалены.**"
   ]
  },
  {
   "cell_type": "code",
   "execution_count": 10,
   "id": "6260af1b",
   "metadata": {
    "deletable": false,
    "id": "ad4fa8b7",
    "outputId": "b2097101-d49d-44d9-901b-32a65c9463d1"
   },
   "outputs": [
    {
     "data": {
      "text/plain": [
       "array([1, 0, 3, 2, 4, 5])"
      ]
     },
     "execution_count": 10,
     "metadata": {},
     "output_type": "execute_result"
    }
   ],
   "source": [
    "data['children'].unique()"
   ]
  },
  {
   "cell_type": "markdown",
   "id": "9cb3bf90",
   "metadata": {
    "deletable": false,
    "editable": false,
    "id": "75440b63"
   },
   "source": [
    "### Удаление пропусков (продолжение)"
   ]
  },
  {
   "cell_type": "markdown",
   "id": "3d0617db",
   "metadata": {
    "deletable": false,
    "editable": false,
    "id": "f4ea573f"
   },
   "source": [
    "**Задание 11. Заполните пропуски в столбце `days_employed` медианными значениями по каждого типа занятости `income_type`.**"
   ]
  },
  {
   "cell_type": "code",
   "execution_count": 11,
   "id": "bee1446d",
   "metadata": {
    "deletable": false,
    "id": "af6b1a7e"
   },
   "outputs": [],
   "source": [
    "for t in data['income_type'].unique():\n",
    "    data.loc[(data['income_type'] == t) & (data['days_employed'].isna()), 'days_employed'] = \\\n",
    "    data.loc[(data['income_type'] == t), 'days_employed'].median()"
   ]
  },
  {
   "cell_type": "markdown",
   "id": "22984355",
   "metadata": {
    "deletable": false,
    "editable": false,
    "id": "2753f40d"
   },
   "source": [
    "**Задание 12. Убедитесь, что все пропуски заполнены. Проверьте себя и ещё раз выведите количество пропущенных значений для каждого столбца с помощью двух методов.**"
   ]
  },
  {
   "cell_type": "code",
   "execution_count": 12,
   "id": "1343e704",
   "metadata": {
    "deletable": false,
    "id": "55f78bc2",
    "outputId": "8da1e4e1-358e-4e87-98c9-f261bce0a7b2"
   },
   "outputs": [
    {
     "data": {
      "text/plain": [
       "children            0\n",
       "days_employed       0\n",
       "dob_years           0\n",
       "education           0\n",
       "education_id        0\n",
       "family_status       0\n",
       "family_status_id    0\n",
       "gender              0\n",
       "income_type         0\n",
       "debt                0\n",
       "total_income        0\n",
       "purpose             0\n",
       "dtype: int64"
      ]
     },
     "execution_count": 12,
     "metadata": {},
     "output_type": "execute_result"
    }
   ],
   "source": [
    "data.isna().sum()"
   ]
  },
  {
   "cell_type": "markdown",
   "id": "558d6d86",
   "metadata": {
    "deletable": false,
    "editable": false,
    "id": "ddc81e43"
   },
   "source": [
    "### Изменение типов данных"
   ]
  },
  {
   "cell_type": "markdown",
   "id": "d32f5e04",
   "metadata": {
    "deletable": false,
    "editable": false,
    "id": "42d19d24"
   },
   "source": [
    "**Задание 13. Замените вещественный тип данных в столбце `total_income` на целочисленный с помощью метода `astype()`.**"
   ]
  },
  {
   "cell_type": "code",
   "execution_count": 13,
   "id": "593b7716",
   "metadata": {
    "deletable": false,
    "id": "920b65ad"
   },
   "outputs": [],
   "source": [
    "data['total_income'] = data['total_income'].astype(int)"
   ]
  },
  {
   "cell_type": "markdown",
   "id": "b6957337",
   "metadata": {
    "deletable": false,
    "editable": false,
    "id": "80c420ba"
   },
   "source": [
    "### Обработка дубликатов"
   ]
  },
  {
   "cell_type": "markdown",
   "id": "f18cc5da",
   "metadata": {
    "deletable": false,
    "editable": false
   },
   "source": [
    "**Задание 14. Обработайте неявные дубликаты в столбце `education`. В этом столбце есть одни и те же значения, но записанные по-разному: с использованием заглавных и строчных букв. Приведите их к нижнему регистру. Проверьте остальные столбцы.**"
   ]
  },
  {
   "cell_type": "code",
   "execution_count": 14,
   "id": "a9d693fd",
   "metadata": {
    "deletable": false
   },
   "outputs": [],
   "source": [
    "data['education'] = data['education'].str.lower()"
   ]
  },
  {
   "cell_type": "markdown",
   "id": "98790d89",
   "metadata": {
    "deletable": false,
    "editable": false,
    "id": "dc587695"
   },
   "source": [
    "**Задание 15. Выведите на экран количество строк-дубликатов в данных. Если такие строки присутствуют, удалите их.**"
   ]
  },
  {
   "cell_type": "code",
   "execution_count": 15,
   "id": "841f2723",
   "metadata": {
    "deletable": false,
    "id": "3ee445e4",
    "outputId": "9684deba-1934-42d1-99e1-cda61740f822"
   },
   "outputs": [
    {
     "data": {
      "text/plain": [
       "71"
      ]
     },
     "execution_count": 15,
     "metadata": {},
     "output_type": "execute_result"
    }
   ],
   "source": [
    "data.duplicated().sum()"
   ]
  },
  {
   "cell_type": "code",
   "execution_count": 16,
   "id": "5bbfb97e",
   "metadata": {
    "deletable": false,
    "id": "8575fe05"
   },
   "outputs": [],
   "source": [
    "data = data.drop_duplicates()"
   ]
  },
  {
   "cell_type": "markdown",
   "id": "80563a1e",
   "metadata": {
    "deletable": false,
    "editable": false,
    "id": "9904cf55"
   },
   "source": [
    "### Категоризация данных"
   ]
  },
  {
   "cell_type": "markdown",
   "id": "201db8b6",
   "metadata": {
    "deletable": false,
    "editable": false,
    "id": "72fcc8a2"
   },
   "source": [
    "**Задание 16. На основании диапазонов, указанных ниже, создайте в датафрейме `data` столбец `total_income_category` с категориями:**\n",
    "\n",
    "- 0–30000 — `'E'`;\n",
    "- 30001–50000 — `'D'`;\n",
    "- 50001–200000 — `'C'`;\n",
    "- 200001–1000000 — `'B'`;\n",
    "- 1000001 и выше — `'A'`.\n",
    "\n",
    "\n",
    "**Например, кредитополучателю с доходом 25000 нужно назначить категорию `'E'`, а клиенту, получающему 235000, — `'B'`. Используйте собственную функцию с именем `categorize_income()` и метод `apply()`.**"
   ]
  },
  {
   "cell_type": "code",
   "execution_count": 17,
   "id": "d6cf1f9b",
   "metadata": {
    "deletable": false,
    "id": "e1771346"
   },
   "outputs": [],
   "source": [
    "def categorize_income(income):\n",
    "    try:\n",
    "        if 0 <= income <= 30000:\n",
    "            return 'E'\n",
    "        elif 30001 <= income <= 50000:\n",
    "            return 'D'\n",
    "        elif 50001 <= income <= 200000:\n",
    "            return 'C'\n",
    "        elif 200001 <= income <= 1000000:\n",
    "            return 'B'\n",
    "        elif income >= 1000001:\n",
    "            return 'A'\n",
    "    except:\n",
    "        pass"
   ]
  },
  {
   "cell_type": "code",
   "execution_count": 18,
   "id": "f4e5045c",
   "metadata": {
    "deletable": false,
    "id": "d5f3586d"
   },
   "outputs": [],
   "source": [
    "data['total_income_category'] = data['total_income'].apply(categorize_income)"
   ]
  },
  {
   "cell_type": "markdown",
   "id": "241fcff3",
   "metadata": {
    "deletable": false,
    "editable": false,
    "id": "dde49b5c"
   },
   "source": [
    "**Задание 17. Выведите на экран перечень уникальных целей взятия кредита из столбца `purpose`.**"
   ]
  },
  {
   "cell_type": "code",
   "execution_count": 19,
   "id": "9f25ee30",
   "metadata": {
    "deletable": false,
    "id": "f67ce9b3",
    "outputId": "673c12d9-7d7e-4ae0-9812-c622c89dd244"
   },
   "outputs": [
    {
     "data": {
      "text/plain": [
       "array(['покупка жилья', 'приобретение автомобиля',\n",
       "       'дополнительное образование', 'сыграть свадьбу',\n",
       "       'операции с жильем', 'образование', 'на проведение свадьбы',\n",
       "       'покупка жилья для семьи', 'покупка недвижимости',\n",
       "       'покупка коммерческой недвижимости', 'покупка жилой недвижимости',\n",
       "       'строительство собственной недвижимости', 'недвижимость',\n",
       "       'строительство недвижимости', 'на покупку подержанного автомобиля',\n",
       "       'на покупку своего автомобиля',\n",
       "       'операции с коммерческой недвижимостью',\n",
       "       'строительство жилой недвижимости', 'жилье',\n",
       "       'операции со своей недвижимостью', 'автомобили',\n",
       "       'заняться образованием', 'сделка с подержанным автомобилем',\n",
       "       'получение образования', 'автомобиль', 'свадьба',\n",
       "       'получение дополнительного образования', 'покупка своего жилья',\n",
       "       'операции с недвижимостью', 'получение высшего образования',\n",
       "       'свой автомобиль', 'сделка с автомобилем',\n",
       "       'профильное образование', 'высшее образование',\n",
       "       'покупка жилья для сдачи', 'на покупку автомобиля', 'ремонт жилью',\n",
       "       'заняться высшим образованием'], dtype=object)"
      ]
     },
     "execution_count": 19,
     "metadata": {},
     "output_type": "execute_result"
    }
   ],
   "source": [
    "data['purpose'].unique()"
   ]
  },
  {
   "cell_type": "markdown",
   "id": "e1ebed6c",
   "metadata": {
    "deletable": false,
    "editable": false,
    "id": "85d0aef0"
   },
   "source": [
    "**Задание 18. Создайте функцию, которая на основании данных из столбца `purpose` сформирует новый столбец `purpose_category`, в который войдут следующие категории:**\n",
    "\n",
    "- `'операции с автомобилем'`,\n",
    "- `'операции с недвижимостью'`,\n",
    "- `'проведение свадьбы'`,\n",
    "- `'получение образования'`.\n",
    "\n",
    "**Например, если в столбце `purpose` находится подстрока `'на покупку автомобиля'`, то в столбце `purpose_category` должна появиться строка `'операции с автомобилем'`.**\n",
    "\n",
    "**Используйте собственную функцию с именем `categorize_purpose()` и метод `apply()`. Изучите данные в столбце `purpose` и определите, какие подстроки помогут вам правильно определить категорию.**"
   ]
  },
  {
   "cell_type": "code",
   "execution_count": 20,
   "id": "4ad1788b",
   "metadata": {
    "deletable": false,
    "id": "e149fab4"
   },
   "outputs": [],
   "source": [
    "def categorize_purpose(row):\n",
    "    try:\n",
    "        if 'автом' in row:\n",
    "            return 'операции с автомобилем'\n",
    "        elif 'жил' in row or 'недвиж' in row:\n",
    "            return 'операции с недвижимостью'\n",
    "        elif 'свад' in row:\n",
    "            return 'проведение свадьбы'\n",
    "        elif 'образов' in row:\n",
    "            return 'получение образования'\n",
    "    except:\n",
    "        return 'нет категории'"
   ]
  },
  {
   "cell_type": "code",
   "execution_count": 21,
   "id": "7eb5aaa0",
   "metadata": {
    "deletable": false,
    "id": "bf36e69b"
   },
   "outputs": [],
   "source": [
    "data['purpose_category'] = data['purpose'].apply(categorize_purpose)"
   ]
  },
  {
   "cell_type": "markdown",
   "id": "3b20d066",
   "metadata": {
    "deletable": false,
    "editable": false,
    "id": "09b242bf"
   },
   "source": [
    "### Шаг 3. Исследуйте данные и ответьте на вопросы"
   ]
  },
  {
   "cell_type": "markdown",
   "id": "9e1e92d7",
   "metadata": {
    "deletable": false,
    "editable": false,
    "id": "c5d66278"
   },
   "source": [
    "#### 3.1 Есть ли зависимость между количеством детей и возвратом кредита в срок?"
   ]
  },
  {
   "cell_type": "code",
   "execution_count": 22,
   "id": "5a0d4697",
   "metadata": {
    "deletable": false,
    "id": "2cacfc4a"
   },
   "outputs": [
    {
     "data": {
      "text/plain": [
       "children  debt\n",
       "0         0        92.456178\n",
       "          1         7.543822\n",
       "1         0        90.765391\n",
       "          1         9.234609\n",
       "2         0        90.545809\n",
       "          1         9.454191\n",
       "3         0        91.818182\n",
       "          1         8.181818\n",
       "4         0        90.243902\n",
       "          1         9.756098\n",
       "5         0       100.000000\n",
       "Name: debt, dtype: float64"
      ]
     },
     "execution_count": 22,
     "metadata": {},
     "output_type": "execute_result"
    }
   ],
   "source": [
    "data.groupby('children')['debt'].value_counts(normalize=True) * 100"
   ]
  },
  {
   "cell_type": "code",
   "execution_count": 23,
   "id": "2a81494f",
   "metadata": {},
   "outputs": [
    {
     "data": {
      "text/plain": [
       "<AxesSubplot:xlabel='children', ylabel='debt'>"
      ]
     },
     "execution_count": 23,
     "metadata": {},
     "output_type": "execute_result"
    },
    {
     "data": {
      "image/png": "[encoded data removed]",
      "text/plain": [
       "<Figure size 432x288 with 1 Axes>"
      ]
     },
     "metadata": {
      "needs_background": "light"
     },
     "output_type": "display_data"
    }
   ],
   "source": [
    "sns.barplot(x='children', y='debt', palette='hls', data=data)"
   ]
  },
  {
   "cell_type": "code",
   "execution_count": 24,
   "id": "80c08760",
   "metadata": {},
   "outputs": [
    {
     "data": {
      "text/plain": [
       "0    14091\n",
       "1     4808\n",
       "2     2052\n",
       "3      330\n",
       "4       41\n",
       "5        9\n",
       "Name: children, dtype: int64"
      ]
     },
     "execution_count": 24,
     "metadata": {},
     "output_type": "execute_result"
    }
   ],
   "source": [
    "data['children'].value_counts() "
   ]
  },
  {
   "cell_type": "markdown",
   "id": "edce42e4",
   "metadata": {
    "deletable": false,
    "id": "3a6b99ec"
   },
   "source": [
    "**Вывод:** Чаще всего кредит возращают в срок заемщики, которые не имеют детей. Заемщки, которые имеют одного, двух или четырех детей возращают кредит в срок вовремя в 90%. Семьи с тремя и пятью деьми возращают кредит в 91% и 100% соответсвенно. Высокий процент у заемщиков с большим количеством детей связан с тем, что таких заемщиков очень мало по сравнению с теми, кто детей не имеют."
   ]
  },
  {
   "cell_type": "markdown",
   "id": "0b6ec8c8",
   "metadata": {
    "deletable": false,
    "editable": false,
    "id": "97be82ca"
   },
   "source": [
    "#### 3.2 Есть ли зависимость между семейным положением и возвратом кредита в срок?"
   ]
  },
  {
   "cell_type": "code",
   "execution_count": 25,
   "id": "4bf6bf07",
   "metadata": {
    "deletable": false,
    "id": "dc3f7ee8"
   },
   "outputs": [
    {
     "data": {
      "text/plain": [
       "family_status          debt\n",
       "Не женат / не замужем  0       90.236052\n",
       "                       1        9.763948\n",
       "в разводе              0       92.935240\n",
       "                       1        7.064760\n",
       "вдовец / вдова         0       93.375394\n",
       "                       1        6.624606\n",
       "гражданский брак       0       90.686986\n",
       "                       1        9.313014\n",
       "женат / замужем        0       92.439442\n",
       "                       1        7.560558\n",
       "Name: debt, dtype: float64"
      ]
     },
     "execution_count": 25,
     "metadata": {},
     "output_type": "execute_result"
    }
   ],
   "source": [
    "data.groupby('family_status')['debt'].value_counts(normalize=True) * 100"
   ]
  },
  {
   "cell_type": "code",
   "execution_count": 26,
   "id": "b886c173",
   "metadata": {},
   "outputs": [
    {
     "data": {
      "text/plain": [
       "<AxesSubplot:xlabel='family_status', ylabel='debt'>"
      ]
     },
     "execution_count": 26,
     "metadata": {},
     "output_type": "execute_result"
    },
    {
     "data": {
      "image/png": "[encoded data removed]",
      "text/plain": [
       "<Figure size 432x288 with 1 Axes>"
      ]
     },
     "metadata": {
      "needs_background": "light"
     },
     "output_type": "display_data"
    }
   ],
   "source": [
    "sns.barplot(x='family_status', y='debt', palette='hls', data=data)"
   ]
  },
  {
   "cell_type": "code",
   "execution_count": 27,
   "id": "0849fdf4",
   "metadata": {},
   "outputs": [
    {
     "data": {
      "text/plain": [
       "женат / замужем          12261\n",
       "гражданский брак          4134\n",
       "Не женат / не замужем     2796\n",
       "в разводе                 1189\n",
       "вдовец / вдова             951\n",
       "Name: family_status, dtype: int64"
      ]
     },
     "execution_count": 27,
     "metadata": {},
     "output_type": "execute_result"
    }
   ],
   "source": [
    "data['family_status'].value_counts()"
   ]
  },
  {
   "cell_type": "markdown",
   "id": "46705fac",
   "metadata": {
    "deletable": false,
    "id": "1cef7837"
   },
   "source": [
    "**Вывод:** Процент заемщиков, офицально зарегистрировших совй брак, достаточно высок - 92%, выше только у вдов и вдовцов, это объясняется небольшим количеством таких заемщиков - всего 951 человек, это почти в 13 раз меншье тех, кто находится в статусе \"женат / замужем\"."
   ]
  },
  {
   "cell_type": "markdown",
   "id": "89545aed",
   "metadata": {
    "deletable": false,
    "editable": false,
    "id": "1e8b2fca"
   },
   "source": [
    "#### 3.3 Есть ли зависимость между уровнем дохода и возвратом кредита в срок?"
   ]
  },
  {
   "cell_type": "code",
   "execution_count": 28,
   "id": "d1dad121",
   "metadata": {
    "deletable": false,
    "id": "cd7e3720"
   },
   "outputs": [
    {
     "data": {
      "text/plain": [
       "total_income_category  debt\n",
       "A                      0       92.000000\n",
       "                       1        8.000000\n",
       "B                      0       92.939769\n",
       "                       1        7.060231\n",
       "C                      0       91.501790\n",
       "                       1        8.498210\n",
       "D                      0       93.982808\n",
       "                       1        6.017192\n",
       "E                      0       90.909091\n",
       "                       1        9.090909\n",
       "Name: debt, dtype: float64"
      ]
     },
     "execution_count": 28,
     "metadata": {},
     "output_type": "execute_result"
    }
   ],
   "source": [
    "data.groupby('total_income_category')['debt'].value_counts(normalize=True) * 100"
   ]
  },
  {
   "cell_type": "code",
   "execution_count": 29,
   "id": "9b47beae",
   "metadata": {},
   "outputs": [
    {
     "data": {
      "text/plain": [
       "<AxesSubplot:xlabel='total_income_category', ylabel='debt'>"
      ]
     },
     "execution_count": 29,
     "metadata": {},
     "output_type": "execute_result"
    },
    {
     "data": {
      "image/png": "[encoded data removed]",
      "text/plain": [
       "<Figure size 432x288 with 1 Axes>"
      ]
     },
     "metadata": {
      "needs_background": "light"
     },
     "output_type": "display_data"
    }
   ],
   "source": [
    "sns.barplot(x='total_income_category', y='debt', palette='hls', data=data)"
   ]
  },
  {
   "cell_type": "code",
   "execution_count": 30,
   "id": "a581144f",
   "metadata": {},
   "outputs": [
    {
     "data": {
      "text/plain": [
       "C    15921\n",
       "B     5014\n",
       "D      349\n",
       "A       25\n",
       "E       22\n",
       "Name: total_income_category, dtype: int64"
      ]
     },
     "execution_count": 30,
     "metadata": {},
     "output_type": "execute_result"
    }
   ],
   "source": [
    "data['total_income_category'].value_counts() "
   ]
  },
  {
   "cell_type": "markdown",
   "id": "c5123dab",
   "metadata": {
    "deletable": false,
    "id": "e8593def"
   },
   "source": [
    "**Вывод:** уровень дохода заемщиков делится на следующие категории: \n",
    "0–30.000 — 'E';\n",
    "30.001–50.000 — 'D';\n",
    "50.001–200.000 — 'C';\n",
    "200.001–1.000.000 — 'B';\n",
    "1.000.001 и выше — 'A'. Зависимости между уровнем дохода и возратом кредита в срок - нет. Кредит возращают в срок более 90% заемщиков. Однако, в банке больше всего заемщиков в категрии \"С\", которые почти в равной степени (по сравнению с категориями \"А\", \"В\") возращают кредит вовремя, но численность таких заемщиков в раз больше, чем в других категорях."
   ]
  },
  {
   "cell_type": "markdown",
   "id": "ddf4d08f",
   "metadata": {
    "deletable": false,
    "editable": false,
    "id": "99ecbd1f"
   },
   "source": [
    "#### 3.4 Как разные цели кредита влияют на его возврат в срок?"
   ]
  },
  {
   "cell_type": "code",
   "execution_count": 31,
   "id": "c44f3bd7",
   "metadata": {
    "deletable": false,
    "id": "2b687290"
   },
   "outputs": [
    {
     "data": {
      "text/plain": [
       "purpose_category          debt\n",
       "операции с автомобилем    0       90.652022\n",
       "                          1        9.347978\n",
       "операции с недвижимостью  0       92.744861\n",
       "                          1        7.255139\n",
       "получение образования     0       90.747242\n",
       "                          1        9.252758\n",
       "проведение свадьбы        0       92.088197\n",
       "                          1        7.911803\n",
       "Name: debt, dtype: float64"
      ]
     },
     "execution_count": 31,
     "metadata": {},
     "output_type": "execute_result"
    }
   ],
   "source": [
    "data.groupby('purpose_category')['debt'].value_counts(normalize=True) * 100"
   ]
  },
  {
   "cell_type": "code",
   "execution_count": 32,
   "id": "979e2d5c",
   "metadata": {},
   "outputs": [
    {
     "data": {
      "text/plain": [
       "<AxesSubplot:xlabel='purpose_category', ylabel='debt'>"
      ]
     },
     "execution_count": 32,
     "metadata": {},
     "output_type": "execute_result"
    },
    {
     "data": {
      "image/png": "[encoded data removed]",
      "text/plain": [
       "<Figure size 432x288 with 1 Axes>"
      ]
     },
     "metadata": {
      "needs_background": "light"
     },
     "output_type": "display_data"
    }
   ],
   "source": [
    "sns.barplot(x='purpose_category', y='debt', palette='hls', data=data)"
   ]
  },
  {
   "cell_type": "code",
   "execution_count": 33,
   "id": "da49c17f",
   "metadata": {},
   "outputs": [
    {
     "data": {
      "text/plain": [
       "операции с недвижимостью    10751\n",
       "операции с автомобилем       4279\n",
       "получение образования        3988\n",
       "проведение свадьбы           2313\n",
       "Name: purpose_category, dtype: int64"
      ]
     },
     "execution_count": 33,
     "metadata": {},
     "output_type": "execute_result"
    }
   ],
   "source": [
    "data['purpose_category'].value_counts() "
   ]
  },
  {
   "cell_type": "markdown",
   "id": "ea975929",
   "metadata": {
    "deletable": false,
    "id": "b4bb2ce6"
   },
   "source": [
    "**Вывод:** самый высокий показатель у категорий \"операции с недвижимостью\" и \"проведение свадьбы\" - 92%, однако, заемщиков, которые взяли крдеит для операций с недвижимость почти в 32 раза больше."
   ]
  },
  {
   "cell_type": "markdown",
   "id": "083ebbca",
   "metadata": {
    "deletable": false,
    "editable": false,
    "id": "09c3ac4c"
   },
   "source": [
    "#### 3.5 Приведите возможные причины появления пропусков в исходных данных."
   ]
  },
  {
   "cell_type": "markdown",
   "id": "c32949ae",
   "metadata": {
    "deletable": false,
    "id": "9da2ceda"
   },
   "source": [
    "*Ответ:* пропуски могут возникать по нескольким причинам: произошла техническая проблема при выгрузке данных, что привело к их потере или человеческий фактор - данные просто забыли занести."
   ]
  },
  {
   "cell_type": "markdown",
   "id": "d4070e94",
   "metadata": {
    "deletable": false,
    "editable": false,
    "id": "7b0487d6"
   },
   "source": [
    "#### 3.6 Объясните, почему заполнить пропуски медианным значением — лучшее решение для количественных переменных."
   ]
  },
  {
   "cell_type": "markdown",
   "id": "8244ccec",
   "metadata": {
    "deletable": false,
    "id": "7ecf2b8e"
   },
   "source": [
    "*Ответ:* количественные переменные часто находятся в большом диапозоне значений из-за наличия \"вбросов\" - аномальных значений, которые искажают результат. Например, есть 11 коробок: каждая из 10 корбок весит 1 кг, а последняя (\"вброс\"/аномальное значение) - 100 кг. Медианное значение будет равно 1 кг. Среднее арифметическое - 10 кг, однако ни одна из коробок даже близко не весит 10 кг, поэтому лучшимя решением заполнять пропуски для количественных переменых - это медианное значение, оно показывает наиболее достовернную информацию, учитвыая все анломальные (очень маленькие или очень большие) значений."
   ]
  },
  {
   "cell_type": "markdown",
   "id": "53928ce7",
   "metadata": {},
   "source": [
    "**Общий вывод:** портрет ***надежного*** клиента выглядет так - не имеет детей, женат или замужем, доход от 50.000 рублей и больше, цель взятия кредита - операции с недвижимостью. Портрет ***ненадежного*** клиента - имеет двух и более детей, не состоит в браке, доход менее 50.000 рублей."
   ]
  },
  {
   "cell_type": "markdown",
   "id": "cbfb3d2c",
   "metadata": {
    "deletable": false,
    "editable": false,
    "id": "6db5255a"
   },
   "source": [
    "### Шаг 4: общий вывод."
   ]
  },
  {
   "cell_type": "code",
   "execution_count": 34,
   "id": "b15a33c4",
   "metadata": {},
   "outputs": [
    {
     "data": {
      "text/plain": [
       "операции с недвижимостью    10751\n",
       "операции с автомобилем       4279\n",
       "получение образования        3988\n",
       "проведение свадьбы           2313\n",
       "Name: purpose_category, dtype: int64"
      ]
     },
     "execution_count": 34,
     "metadata": {},
     "output_type": "execute_result"
    }
   ],
   "source": [
    "data['purpose_category'].value_counts()"
   ]
  },
  {
   "cell_type": "markdown",
   "id": "b6243eaa",
   "metadata": {
    "deletable": false,
    "id": "bad65432"
   },
   "source": [
    "Чаще всего кредит берут для операций с недвижимость: покупка квартир, строительство домов и д.р. и почти в 5 раз реже для организации свадьб."
   ]
  },
  {
   "cell_type": "code",
   "execution_count": 35,
   "id": "eace3cd1",
   "metadata": {},
   "outputs": [],
   "source": [
    "def age_category(age):\n",
    "    if 18 <= age <= 35:\n",
    "        return 'молодые'\n",
    "    if 36 <= age <= 50:\n",
    "        return 'взрослые'\n",
    "    if 51 <= age:\n",
    "        return 'пожилые'\n",
    "data['dob_years_category'] = data['dob_years'].apply(age_category)"
   ]
  },
  {
   "cell_type": "code",
   "execution_count": 36,
   "id": "1109a67b",
   "metadata": {},
   "outputs": [
    {
     "data": {
      "text/plain": [
       "взрослые    8073\n",
       "пожилые     6614\n",
       "молодые     6544\n",
       "Name: dob_years_category, dtype: int64"
      ]
     },
     "execution_count": 36,
     "metadata": {},
     "output_type": "execute_result"
    }
   ],
   "source": [
    "data['dob_years_category'].value_counts()"
   ]
  },
  {
   "cell_type": "markdown",
   "id": "794367c6",
   "metadata": {},
   "source": [
    "Чаще всего кредит берут взрослые люди (36 - 50 лет). Маркетологом стоит делать акцент на аудиторию этого возраста."
   ]
  },
  {
   "cell_type": "code",
   "execution_count": 37,
   "id": "9276eda6",
   "metadata": {},
   "outputs": [
    {
     "data": {
      "text/plain": [
       "F      14092\n",
       "M       7238\n",
       "XNA        1\n",
       "Name: gender, dtype: int64"
      ]
     },
     "execution_count": 37,
     "metadata": {},
     "output_type": "execute_result"
    }
   ],
   "source": [
    "data['gender'].value_counts()"
   ]
  },
  {
   "cell_type": "markdown",
   "id": "bf05252b",
   "metadata": {},
   "source": [
    "При ответе на вопрос \"кто является клиентом банка в большей степени - мужчины или женщины\" обнаружилось, что есть еще одно значение - \"XNA\", отнесем его к мужчинам(М)."
   ]
  },
  {
   "cell_type": "code",
   "execution_count": 38,
   "id": "4e02c6d9",
   "metadata": {},
   "outputs": [
    {
     "name": "stdout",
     "output_type": "stream",
     "text": [
      "F    14092\n",
      "M     7239\n",
      "Name: gender, dtype: int64\n"
     ]
    }
   ],
   "source": [
    "data[data['gender'] == 'XNA'] = 'M' # заменяем\n",
    "print(data['gender'].value_counts()) # делаем проверку"
   ]
  },
  {
   "cell_type": "markdown",
   "id": "7f89b387",
   "metadata": {},
   "source": [
    "**Вывод:** женщины являются клиентами банка в два раза больше мужчин."
   ]
  }
 ],
 "metadata": {
  "ExecuteTimeLog": [
   {
    "duration": 42,
    "start_time": "2022-08-10T14:01:22.732Z"
   },
   {
    "duration": 516,
    "start_time": "2022-08-10T14:01:31.806Z"
   },
   {
    "duration": 25,
    "start_time": "2022-08-10T14:01:32.325Z"
   },
   {
    "duration": 15,
    "start_time": "2022-08-10T14:01:32.352Z"
   },
   {
    "duration": 8,
    "start_time": "2022-08-10T14:01:32.369Z"
   },
   {
    "duration": 52,
    "start_time": "2022-08-10T14:01:32.379Z"
   },
   {
    "duration": 4,
    "start_time": "2022-08-10T14:01:32.433Z"
   },
   {
    "duration": 18,
    "start_time": "2022-08-10T14:01:32.438Z"
   },
   {
    "duration": 4,
    "start_time": "2022-08-10T14:01:32.457Z"
   },
   {
    "duration": 15,
    "start_time": "2022-08-10T14:01:32.463Z"
   },
   {
    "duration": 8,
    "start_time": "2022-08-10T14:01:32.481Z"
   },
   {
    "duration": 65,
    "start_time": "2022-08-10T14:01:32.490Z"
   },
   {
    "duration": 9,
    "start_time": "2022-08-10T14:01:32.556Z"
   },
   {
    "duration": 3,
    "start_time": "2022-08-10T14:01:32.567Z"
   },
   {
    "duration": 11,
    "start_time": "2022-08-10T14:01:32.572Z"
   },
   {
    "duration": 18,
    "start_time": "2022-08-10T14:01:32.584Z"
   },
   {
    "duration": 24,
    "start_time": "2022-08-10T14:01:32.607Z"
   },
   {
    "duration": 7,
    "start_time": "2022-08-10T14:01:32.633Z"
   },
   {
    "duration": 12,
    "start_time": "2022-08-10T14:01:32.641Z"
   },
   {
    "duration": 9,
    "start_time": "2022-08-10T14:01:32.654Z"
   },
   {
    "duration": 4,
    "start_time": "2022-08-10T14:01:32.664Z"
   },
   {
    "duration": 9,
    "start_time": "2022-08-10T14:01:32.669Z"
   },
   {
    "duration": 4,
    "start_time": "2022-08-10T14:01:32.679Z"
   },
   {
    "duration": 7,
    "start_time": "2022-08-10T14:01:32.685Z"
   },
   {
    "duration": 3,
    "start_time": "2022-08-10T14:01:32.705Z"
   },
   {
    "duration": 27,
    "start_time": "2022-08-10T14:01:32.709Z"
   },
   {
    "duration": 4,
    "start_time": "2022-08-10T14:01:35.970Z"
   },
   {
    "duration": 26,
    "start_time": "2022-08-10T14:07:19.327Z"
   },
   {
    "duration": 22,
    "start_time": "2022-08-10T14:07:43.569Z"
   },
   {
    "duration": 22,
    "start_time": "2022-08-10T14:08:15.217Z"
   },
   {
    "duration": 1442,
    "start_time": "2022-08-10T14:09:01.606Z"
   },
   {
    "duration": 8,
    "start_time": "2022-08-10T14:09:13.955Z"
   },
   {
    "duration": 8,
    "start_time": "2022-08-10T14:10:44.748Z"
   },
   {
    "duration": 12,
    "start_time": "2022-08-10T14:15:36.198Z"
   },
   {
    "duration": 7,
    "start_time": "2022-08-10T14:15:48.239Z"
   },
   {
    "duration": 5,
    "start_time": "2022-08-10T14:16:09.120Z"
   },
   {
    "duration": 5,
    "start_time": "2022-08-10T14:16:25.875Z"
   },
   {
    "duration": 8,
    "start_time": "2022-08-10T14:20:43.103Z"
   },
   {
    "duration": 10,
    "start_time": "2022-08-10T14:23:03.756Z"
   },
   {
    "duration": 8,
    "start_time": "2022-08-10T14:23:33.472Z"
   },
   {
    "duration": 8,
    "start_time": "2022-08-10T14:27:38.456Z"
   },
   {
    "duration": 8,
    "start_time": "2022-08-10T14:27:44.288Z"
   },
   {
    "duration": 8,
    "start_time": "2022-08-10T14:27:56.802Z"
   },
   {
    "duration": 8,
    "start_time": "2022-08-10T14:28:46.621Z"
   },
   {
    "duration": 7,
    "start_time": "2022-08-10T14:28:52.223Z"
   },
   {
    "duration": 8,
    "start_time": "2022-08-10T14:30:54.587Z"
   },
   {
    "duration": 8,
    "start_time": "2022-08-10T14:32:55.338Z"
   },
   {
    "duration": 8,
    "start_time": "2022-08-10T14:33:17.865Z"
   },
   {
    "duration": 10,
    "start_time": "2022-08-10T14:34:08.298Z"
   },
   {
    "duration": 7,
    "start_time": "2022-08-10T14:36:03.756Z"
   },
   {
    "duration": 78,
    "start_time": "2022-08-10T14:37:15.679Z"
   },
   {
    "duration": 8,
    "start_time": "2022-08-10T14:37:24.293Z"
   },
   {
    "duration": 8,
    "start_time": "2022-08-10T14:37:41.020Z"
   },
   {
    "duration": 10,
    "start_time": "2022-08-10T14:37:51.105Z"
   },
   {
    "duration": 110,
    "start_time": "2022-08-10T14:41:00.466Z"
   },
   {
    "duration": 9,
    "start_time": "2022-08-10T14:41:18.300Z"
   },
   {
    "duration": 9,
    "start_time": "2022-08-10T14:43:09.319Z"
   },
   {
    "duration": 8,
    "start_time": "2022-08-10T14:43:31.536Z"
   },
   {
    "duration": 8,
    "start_time": "2022-08-10T14:43:54.843Z"
   },
   {
    "duration": 16,
    "start_time": "2022-08-10T14:53:21.499Z"
   },
   {
    "duration": 7,
    "start_time": "2022-08-10T14:54:45.523Z"
   },
   {
    "duration": 12,
    "start_time": "2022-08-10T14:57:28.103Z"
   },
   {
    "duration": 12,
    "start_time": "2022-08-10T14:57:31.604Z"
   },
   {
    "duration": 15,
    "start_time": "2022-08-10T14:58:34.050Z"
   },
   {
    "duration": 17,
    "start_time": "2022-08-10T14:59:23.683Z"
   },
   {
    "duration": 12,
    "start_time": "2022-08-10T14:59:39.539Z"
   },
   {
    "duration": 9,
    "start_time": "2022-08-10T15:00:38.718Z"
   },
   {
    "duration": 76,
    "start_time": "2022-08-10T15:08:58.877Z"
   },
   {
    "duration": 8,
    "start_time": "2022-08-10T15:09:12.799Z"
   },
   {
    "duration": 15,
    "start_time": "2022-08-10T15:12:26.719Z"
   },
   {
    "duration": 13,
    "start_time": "2022-08-10T15:12:40.524Z"
   },
   {
    "duration": 10,
    "start_time": "2022-08-10T15:18:10.331Z"
   },
   {
    "duration": 6,
    "start_time": "2022-08-10T15:29:57.716Z"
   },
   {
    "duration": 8,
    "start_time": "2022-08-10T15:30:05.734Z"
   },
   {
    "duration": 6,
    "start_time": "2022-08-10T15:33:21.376Z"
   },
   {
    "duration": 7,
    "start_time": "2022-08-10T15:39:34.712Z"
   },
   {
    "duration": 8,
    "start_time": "2022-08-10T15:39:54.419Z"
   },
   {
    "duration": 7,
    "start_time": "2022-08-10T15:40:14.362Z"
   },
   {
    "duration": 9,
    "start_time": "2022-08-10T15:42:22.146Z"
   },
   {
    "duration": 7,
    "start_time": "2022-08-10T15:47:38.237Z"
   },
   {
    "duration": 8,
    "start_time": "2022-08-10T15:49:47.518Z"
   },
   {
    "duration": 7,
    "start_time": "2022-08-10T15:50:10.186Z"
   },
   {
    "duration": 18,
    "start_time": "2022-08-10T15:51:19.533Z"
   },
   {
    "duration": 87,
    "start_time": "2022-08-10T15:52:07.561Z"
   },
   {
    "duration": 103,
    "start_time": "2022-08-10T15:54:34.004Z"
   },
   {
    "duration": 1369,
    "start_time": "2022-08-10T19:38:29.123Z"
   },
   {
    "duration": 759,
    "start_time": "2022-08-10T19:38:35.963Z"
   },
   {
    "duration": 22,
    "start_time": "2022-08-10T19:38:36.724Z"
   },
   {
    "duration": 1551,
    "start_time": "2022-08-10T19:38:36.747Z"
   },
   {
    "duration": 14,
    "start_time": "2022-08-10T19:38:38.300Z"
   },
   {
    "duration": 9,
    "start_time": "2022-08-10T19:38:38.316Z"
   },
   {
    "duration": 31,
    "start_time": "2022-08-10T19:38:38.327Z"
   },
   {
    "duration": 3,
    "start_time": "2022-08-10T19:38:38.360Z"
   },
   {
    "duration": 9,
    "start_time": "2022-08-10T19:38:38.388Z"
   },
   {
    "duration": 8,
    "start_time": "2022-08-10T19:38:38.398Z"
   },
   {
    "duration": 14,
    "start_time": "2022-08-10T19:38:38.408Z"
   },
   {
    "duration": 12,
    "start_time": "2022-08-10T19:38:38.423Z"
   },
   {
    "duration": 56,
    "start_time": "2022-08-10T19:38:38.437Z"
   },
   {
    "duration": 10,
    "start_time": "2022-08-10T19:38:38.495Z"
   },
   {
    "duration": 7,
    "start_time": "2022-08-10T19:38:38.506Z"
   },
   {
    "duration": 12,
    "start_time": "2022-08-10T19:38:38.515Z"
   },
   {
    "duration": 19,
    "start_time": "2022-08-10T19:38:38.528Z"
   },
   {
    "duration": 44,
    "start_time": "2022-08-10T19:38:38.548Z"
   },
   {
    "duration": 4,
    "start_time": "2022-08-10T19:38:38.594Z"
   },
   {
    "duration": 14,
    "start_time": "2022-08-10T19:38:38.600Z"
   },
   {
    "duration": 5,
    "start_time": "2022-08-10T19:38:38.616Z"
   },
   {
    "duration": 4,
    "start_time": "2022-08-10T19:38:38.623Z"
   },
   {
    "duration": 15,
    "start_time": "2022-08-10T19:38:38.628Z"
   },
   {
    "duration": 15,
    "start_time": "2022-08-10T19:38:38.645Z"
   },
   {
    "duration": 27,
    "start_time": "2022-08-10T19:38:38.662Z"
   },
   {
    "duration": 9,
    "start_time": "2022-08-10T19:38:38.691Z"
   },
   {
    "duration": 10,
    "start_time": "2022-08-10T19:38:38.701Z"
   },
   {
    "duration": 7,
    "start_time": "2022-08-10T19:38:38.713Z"
   },
   {
    "duration": 11,
    "start_time": "2022-08-10T19:38:38.722Z"
   },
   {
    "duration": 13,
    "start_time": "2022-08-10T19:38:38.734Z"
   },
   {
    "duration": 39,
    "start_time": "2022-08-10T19:38:38.749Z"
   },
   {
    "duration": 18,
    "start_time": "2022-08-10T19:38:38.789Z"
   },
   {
    "duration": 116,
    "start_time": "2022-08-10T19:39:04.239Z"
   },
   {
    "duration": 52,
    "start_time": "2022-08-10T19:39:53.571Z"
   },
   {
    "duration": 466,
    "start_time": "2022-08-10T19:40:05.719Z"
   },
   {
    "duration": 28,
    "start_time": "2022-08-10T19:40:06.189Z"
   },
   {
    "duration": 21,
    "start_time": "2022-08-10T19:40:06.219Z"
   },
   {
    "duration": 31,
    "start_time": "2022-08-10T19:40:06.242Z"
   },
   {
    "duration": 43,
    "start_time": "2022-08-10T19:40:06.275Z"
   },
   {
    "duration": 3,
    "start_time": "2022-08-10T19:40:06.321Z"
   },
   {
    "duration": 20,
    "start_time": "2022-08-10T19:40:06.326Z"
   },
   {
    "duration": 12,
    "start_time": "2022-08-10T19:40:06.348Z"
   },
   {
    "duration": 17,
    "start_time": "2022-08-10T19:40:06.362Z"
   },
   {
    "duration": 13,
    "start_time": "2022-08-10T19:40:06.386Z"
   },
   {
    "duration": 48,
    "start_time": "2022-08-10T19:40:06.403Z"
   },
   {
    "duration": 15,
    "start_time": "2022-08-10T19:40:06.453Z"
   },
   {
    "duration": 18,
    "start_time": "2022-08-10T19:40:06.470Z"
   },
   {
    "duration": 13,
    "start_time": "2022-08-10T19:40:06.492Z"
   },
   {
    "duration": 32,
    "start_time": "2022-08-10T19:40:06.508Z"
   },
   {
    "duration": 45,
    "start_time": "2022-08-10T19:40:06.542Z"
   },
   {
    "duration": 6,
    "start_time": "2022-08-10T19:40:06.589Z"
   },
   {
    "duration": 20,
    "start_time": "2022-08-10T19:40:06.597Z"
   },
   {
    "duration": 13,
    "start_time": "2022-08-10T19:40:06.619Z"
   },
   {
    "duration": 4,
    "start_time": "2022-08-10T19:40:06.634Z"
   },
   {
    "duration": 12,
    "start_time": "2022-08-10T19:40:06.640Z"
   },
   {
    "duration": 15,
    "start_time": "2022-08-10T19:40:06.654Z"
   },
   {
    "duration": 25,
    "start_time": "2022-08-10T19:40:06.670Z"
   },
   {
    "duration": 12,
    "start_time": "2022-08-10T19:40:06.696Z"
   },
   {
    "duration": 10,
    "start_time": "2022-08-10T19:40:06.710Z"
   },
   {
    "duration": 7,
    "start_time": "2022-08-10T19:40:06.722Z"
   },
   {
    "duration": 11,
    "start_time": "2022-08-10T19:40:06.730Z"
   },
   {
    "duration": 7,
    "start_time": "2022-08-10T19:40:06.743Z"
   },
   {
    "duration": 42,
    "start_time": "2022-08-10T19:40:06.752Z"
   },
   {
    "duration": 22,
    "start_time": "2022-08-10T19:40:06.795Z"
   },
   {
    "duration": 827,
    "start_time": "2022-08-10T19:40:50.167Z"
   },
   {
    "duration": 45,
    "start_time": "2022-08-11T09:22:59.892Z"
   },
   {
    "duration": 1256,
    "start_time": "2022-08-11T09:23:08.980Z"
   },
   {
    "duration": 37,
    "start_time": "2022-08-11T09:23:10.239Z"
   },
   {
    "duration": 24,
    "start_time": "2022-08-11T09:23:10.278Z"
   },
   {
    "duration": 56,
    "start_time": "2022-08-11T09:23:10.305Z"
   },
   {
    "duration": 71,
    "start_time": "2022-08-11T09:23:10.364Z"
   },
   {
    "duration": 8,
    "start_time": "2022-08-11T09:23:10.437Z"
   },
   {
    "duration": 53,
    "start_time": "2022-08-11T09:23:10.446Z"
   },
   {
    "duration": 13,
    "start_time": "2022-08-11T09:23:10.500Z"
   },
   {
    "duration": 13,
    "start_time": "2022-08-11T09:23:10.515Z"
   },
   {
    "duration": 6,
    "start_time": "2022-08-11T09:23:10.532Z"
   },
   {
    "duration": 55,
    "start_time": "2022-08-11T09:23:10.540Z"
   },
   {
    "duration": 12,
    "start_time": "2022-08-11T09:23:10.597Z"
   },
   {
    "duration": 7,
    "start_time": "2022-08-11T09:23:10.611Z"
   },
   {
    "duration": 16,
    "start_time": "2022-08-11T09:23:10.620Z"
   },
   {
    "duration": 63,
    "start_time": "2022-08-11T09:23:10.638Z"
   },
   {
    "duration": 28,
    "start_time": "2022-08-11T09:23:10.702Z"
   },
   {
    "duration": 3,
    "start_time": "2022-08-11T09:23:10.732Z"
   },
   {
    "duration": 50,
    "start_time": "2022-08-11T09:23:10.737Z"
   },
   {
    "duration": 13,
    "start_time": "2022-08-11T09:23:10.789Z"
   },
   {
    "duration": 24,
    "start_time": "2022-08-11T09:23:10.804Z"
   },
   {
    "duration": 42,
    "start_time": "2022-08-11T09:23:10.830Z"
   },
   {
    "duration": 13,
    "start_time": "2022-08-11T09:23:10.873Z"
   },
   {
    "duration": 26,
    "start_time": "2022-08-11T09:23:10.887Z"
   },
   {
    "duration": 12,
    "start_time": "2022-08-11T09:23:10.915Z"
   },
   {
    "duration": 36,
    "start_time": "2022-08-11T09:23:10.929Z"
   },
   {
    "duration": 20,
    "start_time": "2022-08-11T09:23:10.967Z"
   },
   {
    "duration": 15,
    "start_time": "2022-08-11T09:23:10.988Z"
   },
   {
    "duration": 41,
    "start_time": "2022-08-11T09:23:11.006Z"
   },
   {
    "duration": 29,
    "start_time": "2022-08-11T09:23:11.049Z"
   },
   {
    "duration": 8,
    "start_time": "2022-08-11T09:23:11.080Z"
   },
   {
    "duration": 20,
    "start_time": "2022-08-11T09:23:11.090Z"
   },
   {
    "duration": 8,
    "start_time": "2022-08-11T09:34:44.326Z"
   },
   {
    "duration": 20,
    "start_time": "2022-08-11T09:36:47.689Z"
   },
   {
    "duration": 7,
    "start_time": "2022-08-11T09:48:19.317Z"
   },
   {
    "duration": 19,
    "start_time": "2022-08-11T09:50:10.227Z"
   },
   {
    "duration": 7,
    "start_time": "2022-08-11T10:00:13.397Z"
   },
   {
    "duration": 23,
    "start_time": "2022-08-11T10:02:48.832Z"
   },
   {
    "duration": 870,
    "start_time": "2022-08-11T10:17:22.987Z"
   },
   {
    "duration": 97,
    "start_time": "2022-08-11T10:25:08.200Z"
   },
   {
    "duration": 1126,
    "start_time": "2022-08-11T10:25:24.819Z"
   },
   {
    "duration": 16,
    "start_time": "2022-08-11T10:25:25.947Z"
   },
   {
    "duration": 13,
    "start_time": "2022-08-11T10:25:25.964Z"
   },
   {
    "duration": 10,
    "start_time": "2022-08-11T10:25:25.978Z"
   },
   {
    "duration": 37,
    "start_time": "2022-08-11T10:25:25.990Z"
   },
   {
    "duration": 4,
    "start_time": "2022-08-11T10:25:26.037Z"
   },
   {
    "duration": 27,
    "start_time": "2022-08-11T10:25:26.042Z"
   },
   {
    "duration": 21,
    "start_time": "2022-08-11T10:25:26.070Z"
   },
   {
    "duration": 14,
    "start_time": "2022-08-11T10:25:26.092Z"
   },
   {
    "duration": 10,
    "start_time": "2022-08-11T10:25:26.108Z"
   },
   {
    "duration": 36,
    "start_time": "2022-08-11T10:25:26.119Z"
   },
   {
    "duration": 10,
    "start_time": "2022-08-11T10:25:26.157Z"
   },
   {
    "duration": 4,
    "start_time": "2022-08-11T10:25:26.169Z"
   },
   {
    "duration": 11,
    "start_time": "2022-08-11T10:25:26.176Z"
   },
   {
    "duration": 16,
    "start_time": "2022-08-11T10:25:26.189Z"
   },
   {
    "duration": 33,
    "start_time": "2022-08-11T10:25:26.206Z"
   },
   {
    "duration": 3,
    "start_time": "2022-08-11T10:25:26.241Z"
   },
   {
    "duration": 14,
    "start_time": "2022-08-11T10:25:26.245Z"
   },
   {
    "duration": 5,
    "start_time": "2022-08-11T10:25:26.260Z"
   },
   {
    "duration": 4,
    "start_time": "2022-08-11T10:25:26.266Z"
   },
   {
    "duration": 16,
    "start_time": "2022-08-11T10:25:26.271Z"
   },
   {
    "duration": 103,
    "start_time": "2022-08-11T10:25:26.288Z"
   },
   {
    "duration": 0,
    "start_time": "2022-08-11T10:25:26.392Z"
   },
   {
    "duration": 0,
    "start_time": "2022-08-11T10:25:26.393Z"
   },
   {
    "duration": 0,
    "start_time": "2022-08-11T10:25:26.394Z"
   },
   {
    "duration": 0,
    "start_time": "2022-08-11T10:25:26.395Z"
   },
   {
    "duration": 0,
    "start_time": "2022-08-11T10:25:26.396Z"
   },
   {
    "duration": 0,
    "start_time": "2022-08-11T10:25:26.397Z"
   },
   {
    "duration": 0,
    "start_time": "2022-08-11T10:25:26.398Z"
   },
   {
    "duration": 0,
    "start_time": "2022-08-11T10:25:26.398Z"
   },
   {
    "duration": 0,
    "start_time": "2022-08-11T10:25:26.399Z"
   },
   {
    "duration": 0,
    "start_time": "2022-08-11T10:25:26.400Z"
   },
   {
    "duration": 0,
    "start_time": "2022-08-11T10:25:26.401Z"
   },
   {
    "duration": 0,
    "start_time": "2022-08-11T10:25:26.402Z"
   },
   {
    "duration": 72,
    "start_time": "2022-08-11T10:26:34.713Z"
   },
   {
    "duration": 234,
    "start_time": "2022-08-11T10:26:53.319Z"
   },
   {
    "duration": 314,
    "start_time": "2022-08-11T10:27:16.841Z"
   },
   {
    "duration": 8,
    "start_time": "2022-08-11T10:28:08.791Z"
   },
   {
    "duration": 318,
    "start_time": "2022-08-11T10:28:16.823Z"
   },
   {
    "duration": 5,
    "start_time": "2022-08-11T10:28:23.736Z"
   },
   {
    "duration": 201,
    "start_time": "2022-08-11T10:28:50.774Z"
   },
   {
    "duration": 293,
    "start_time": "2022-08-11T10:30:02.227Z"
   },
   {
    "duration": 9,
    "start_time": "2022-08-11T10:30:30.451Z"
   },
   {
    "duration": 382,
    "start_time": "2022-08-11T10:31:08.827Z"
   },
   {
    "duration": 10,
    "start_time": "2022-08-11T10:31:15.094Z"
   },
   {
    "duration": 22,
    "start_time": "2022-08-11T10:31:19.735Z"
   },
   {
    "duration": 747,
    "start_time": "2022-08-11T10:31:57.304Z"
   },
   {
    "duration": 11,
    "start_time": "2022-08-11T10:32:02.891Z"
   },
   {
    "duration": 22,
    "start_time": "2022-08-11T10:32:08.977Z"
   },
   {
    "duration": 14,
    "start_time": "2022-08-11T10:33:57.586Z"
   },
   {
    "duration": 16,
    "start_time": "2022-08-11T10:34:26.023Z"
   },
   {
    "duration": 20,
    "start_time": "2022-08-11T10:34:55.607Z"
   },
   {
    "duration": 7,
    "start_time": "2022-08-11T10:40:56.438Z"
   },
   {
    "duration": 7,
    "start_time": "2022-08-11T10:41:40.087Z"
   },
   {
    "duration": 6,
    "start_time": "2022-08-11T10:41:53.968Z"
   },
   {
    "duration": 6,
    "start_time": "2022-08-11T10:42:40.624Z"
   },
   {
    "duration": 6,
    "start_time": "2022-08-11T10:43:36.448Z"
   },
   {
    "duration": 1071,
    "start_time": "2022-08-11T10:44:20.708Z"
   },
   {
    "duration": 16,
    "start_time": "2022-08-11T10:44:21.781Z"
   },
   {
    "duration": 13,
    "start_time": "2022-08-11T10:44:21.799Z"
   },
   {
    "duration": 26,
    "start_time": "2022-08-11T10:44:21.813Z"
   },
   {
    "duration": 29,
    "start_time": "2022-08-11T10:44:21.840Z"
   },
   {
    "duration": 3,
    "start_time": "2022-08-11T10:44:21.870Z"
   },
   {
    "duration": 9,
    "start_time": "2022-08-11T10:44:21.874Z"
   },
   {
    "duration": 4,
    "start_time": "2022-08-11T10:44:21.884Z"
   },
   {
    "duration": 7,
    "start_time": "2022-08-11T10:44:21.889Z"
   },
   {
    "duration": 3,
    "start_time": "2022-08-11T10:44:21.899Z"
   },
   {
    "duration": 64,
    "start_time": "2022-08-11T10:44:21.903Z"
   },
   {
    "duration": 9,
    "start_time": "2022-08-11T10:44:21.968Z"
   },
   {
    "duration": 17,
    "start_time": "2022-08-11T10:44:21.979Z"
   },
   {
    "duration": 15,
    "start_time": "2022-08-11T10:44:21.997Z"
   },
   {
    "duration": 16,
    "start_time": "2022-08-11T10:44:22.013Z"
   },
   {
    "duration": 15,
    "start_time": "2022-08-11T10:44:22.031Z"
   },
   {
    "duration": 4,
    "start_time": "2022-08-11T10:44:22.047Z"
   },
   {
    "duration": 13,
    "start_time": "2022-08-11T10:44:22.052Z"
   },
   {
    "duration": 5,
    "start_time": "2022-08-11T10:44:22.066Z"
   },
   {
    "duration": 6,
    "start_time": "2022-08-11T10:44:22.072Z"
   },
   {
    "duration": 10,
    "start_time": "2022-08-11T10:44:22.079Z"
   },
   {
    "duration": 11,
    "start_time": "2022-08-11T10:44:22.090Z"
   },
   {
    "duration": 333,
    "start_time": "2022-08-11T10:44:22.102Z"
   },
   {
    "duration": 5,
    "start_time": "2022-08-11T10:44:22.438Z"
   },
   {
    "duration": 10,
    "start_time": "2022-08-11T10:44:22.445Z"
   },
   {
    "duration": 312,
    "start_time": "2022-08-11T10:44:22.456Z"
   },
   {
    "duration": 6,
    "start_time": "2022-08-11T10:44:22.769Z"
   },
   {
    "duration": 10,
    "start_time": "2022-08-11T10:44:22.778Z"
   },
   {
    "duration": 290,
    "start_time": "2022-08-11T10:44:22.789Z"
   },
   {
    "duration": 7,
    "start_time": "2022-08-11T10:44:23.080Z"
   },
   {
    "duration": 18,
    "start_time": "2022-08-11T10:44:23.088Z"
   },
   {
    "duration": 281,
    "start_time": "2022-08-11T10:44:23.107Z"
   },
   {
    "duration": 6,
    "start_time": "2022-08-11T10:44:23.389Z"
   },
   {
    "duration": 9,
    "start_time": "2022-08-11T10:44:23.397Z"
   },
   {
    "duration": 12,
    "start_time": "2022-08-11T10:44:23.407Z"
   },
   {
    "duration": 18,
    "start_time": "2022-08-11T10:44:23.421Z"
   },
   {
    "duration": 9,
    "start_time": "2022-08-11T10:44:23.441Z"
   },
   {
    "duration": 17,
    "start_time": "2022-08-11T10:44:23.452Z"
   }
  ],
  "colab": {
   "name": "dpp_template_part2.ipynb",
   "provenance": []
  },
  "kernelspec": {
   "display_name": "Python 3 (ipykernel)",
   "language": "python",
   "name": "python3"
  },
  "language_info": {
   "codemirror_mode": {
    "name": "ipython",
    "version": 3
   },
   "file_extension": ".py",
   "mimetype": "text/x-python",
   "name": "python",
   "nbconvert_exporter": "python",
   "pygments_lexer": "ipython3",
   "version": "3.9.12"
  },
  "toc": {
   "base_numbering": 1,
   "nav_menu": {},
   "number_sections": true,
   "sideBar": true,
   "skip_h1_title": true,
   "title_cell": "Table of Contents",
   "title_sidebar": "Contents",
   "toc_cell": false,
   "toc_position": {},
   "toc_section_display": true,
   "toc_window_display": false
  }
 },
 "nbformat": 4,
 "nbformat_minor": 5
}
